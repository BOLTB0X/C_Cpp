{
 "cells": [
  {
   "cell_type": "code",
   "execution_count": 3,
   "id": "bedc59fd",
   "metadata": {
    "scrolled": true
   },
   "outputs": [
    {
     "name": "stdout",
     "output_type": "stream",
     "text": [
      "절차지향 프로그래밍\n",
      "1\n"
     ]
    }
   ],
   "source": [
    "print(\"절차지향 프로그래밍\")\n",
    "data=1\n",
    "print(data)"
   ]
  },
  {
   "cell_type": "code",
   "execution_count": 6,
   "id": "eb6a19c1",
   "metadata": {},
   "outputs": [
    {
     "name": "stdout",
     "output_type": "stream",
     "text": [
      "객체지향 프로그래밍\n",
      "핵심: Class와 Object\n",
      "설계도 객체 변수 함수\n"
     ]
    }
   ],
   "source": [
    "print(\"객체지향 프로그래밍\")\n",
    "print(\"핵심: Class와 Object\")\n",
    "Class='설계도'\n",
    "Object='객체' #클래스 기반으로 만들어진 실체(객체 or 인스턴스)\n",
    "attribute='변수'\n",
    "method='함수'\n",
    "print(Class,Object,attribute,method)"
   ]
  },
  {
   "cell_type": "code",
   "execution_count": 7,
   "id": "d169605c",
   "metadata": {},
   "outputs": [],
   "source": [
    "#사각형 만들기\n",
    "class Quadrangle:\n",
    "    pass"
   ]
  },
  {
   "cell_type": "code",
   "execution_count": 8,
   "id": "6ebd5147",
   "metadata": {},
   "outputs": [],
   "source": [
    "class SingleWord:\n",
    "    pass"
   ]
  },
  {
   "cell_type": "code",
   "execution_count": 9,
   "id": "1f66be25",
   "metadata": {},
   "outputs": [
    {
     "data": {
      "text/plain": [
       "['__class__',\n",
       " '__delattr__',\n",
       " '__dict__',\n",
       " '__dir__',\n",
       " '__doc__',\n",
       " '__eq__',\n",
       " '__format__',\n",
       " '__ge__',\n",
       " '__getattribute__',\n",
       " '__gt__',\n",
       " '__hash__',\n",
       " '__init__',\n",
       " '__init_subclass__',\n",
       " '__le__',\n",
       " '__lt__',\n",
       " '__module__',\n",
       " '__ne__',\n",
       " '__new__',\n",
       " '__reduce__',\n",
       " '__reduce_ex__',\n",
       " '__repr__',\n",
       " '__setattr__',\n",
       " '__sizeof__',\n",
       " '__str__',\n",
       " '__subclasshook__',\n",
       " '__weakref__']"
      ]
     },
     "execution_count": 9,
     "metadata": {},
     "output_type": "execute_result"
    }
   ],
   "source": [
    "dir (SingleWord)"
   ]
  },
  {
   "cell_type": "code",
   "execution_count": 10,
   "id": "dea30266",
   "metadata": {},
   "outputs": [],
   "source": [
    "#class에 attribute/method를 아직 안넣은 상태\n",
    "#class에 내용이 없기에 임의로 pass를 넣어 class 선언을 끝냄\n",
    "#객체를 class명과 동일하게 쓸 수 있음\n",
    "\n",
    "class Quadrangle(object):\n",
    "    pass"
   ]
  },
  {
   "cell_type": "code",
   "execution_count": 11,
   "id": "55caf437",
   "metadata": {},
   "outputs": [
    {
     "data": {
      "text/plain": [
       "['__class__',\n",
       " '__delattr__',\n",
       " '__dict__',\n",
       " '__dir__',\n",
       " '__doc__',\n",
       " '__eq__',\n",
       " '__format__',\n",
       " '__ge__',\n",
       " '__getattribute__',\n",
       " '__gt__',\n",
       " '__hash__',\n",
       " '__init__',\n",
       " '__init_subclass__',\n",
       " '__le__',\n",
       " '__lt__',\n",
       " '__module__',\n",
       " '__ne__',\n",
       " '__new__',\n",
       " '__reduce__',\n",
       " '__reduce_ex__',\n",
       " '__repr__',\n",
       " '__setattr__',\n",
       " '__sizeof__',\n",
       " '__str__',\n",
       " '__subclasshook__',\n",
       " '__weakref__']"
      ]
     },
     "execution_count": 11,
     "metadata": {},
     "output_type": "execute_result"
    }
   ],
   "source": [
    "dir(Quadrangle)"
   ]
  },
  {
   "cell_type": "code",
   "execution_count": 12,
   "id": "0904b301",
   "metadata": {},
   "outputs": [],
   "source": [
    "#만들어진 클래스로 객체를 만들수 있음\n",
    "# 객체도 변수/함수/클래스와 마찬가지로 유일한 이름을 지어야함\n",
    "#함수와 마찬가지로 인수를 넣을 수 있음\n",
    "\n",
    "square=Quadrangle()"
   ]
  },
  {
   "cell_type": "code",
   "execution_count": 13,
   "id": "f91d7c54",
   "metadata": {},
   "outputs": [],
   "source": [
    "dave = Quadrangle()"
   ]
  },
  {
   "cell_type": "code",
   "execution_count": 14,
   "id": "3117d43c",
   "metadata": {},
   "outputs": [],
   "source": [
    "dave1= Quadrangle()"
   ]
  },
  {
   "cell_type": "code",
   "execution_count": 15,
   "id": "b174945f",
   "metadata": {},
   "outputs": [
    {
     "data": {
      "text/plain": [
       "['__class__',\n",
       " '__delattr__',\n",
       " '__dict__',\n",
       " '__dir__',\n",
       " '__doc__',\n",
       " '__eq__',\n",
       " '__format__',\n",
       " '__ge__',\n",
       " '__getattribute__',\n",
       " '__gt__',\n",
       " '__hash__',\n",
       " '__init__',\n",
       " '__init_subclass__',\n",
       " '__le__',\n",
       " '__lt__',\n",
       " '__module__',\n",
       " '__ne__',\n",
       " '__new__',\n",
       " '__reduce__',\n",
       " '__reduce_ex__',\n",
       " '__repr__',\n",
       " '__setattr__',\n",
       " '__sizeof__',\n",
       " '__str__',\n",
       " '__subclasshook__',\n",
       " '__weakref__']"
      ]
     },
     "execution_count": 15,
     "metadata": {},
     "output_type": "execute_result"
    }
   ],
   "source": [
    "dir(dave)"
   ]
  },
  {
   "cell_type": "code",
   "execution_count": 16,
   "id": "35833bf3",
   "metadata": {},
   "outputs": [
    {
     "data": {
      "text/plain": [
       "__main__.Quadrangle"
      ]
     },
     "execution_count": 16,
     "metadata": {},
     "output_type": "execute_result"
    }
   ],
   "source": [
    "#객체 square는 Quadrangle의 인스턴스\n",
    "type(square)"
   ]
  },
  {
   "cell_type": "code",
   "execution_count": 17,
   "id": "b88ef03f",
   "metadata": {},
   "outputs": [
    {
     "data": {
      "text/plain": [
       "__main__.Quadrangle"
      ]
     },
     "execution_count": 17,
     "metadata": {},
     "output_type": "execute_result"
    }
   ],
   "source": [
    "type(dave)"
   ]
  },
  {
   "cell_type": "code",
   "execution_count": 18,
   "id": "3c27014d",
   "metadata": {},
   "outputs": [],
   "source": [
    "class Quadrangle:\n",
    "    width=0 #attribute 추가 C++의 맴버와 같은 개념\n",
    "    height=0\n",
    "    color=\"black\""
   ]
  },
  {
   "cell_type": "code",
   "execution_count": 19,
   "id": "df0ba9cb",
   "metadata": {},
   "outputs": [],
   "source": [
    "class Dave:\n",
    "    data=0\n",
    "    name='dave'"
   ]
  },
  {
   "cell_type": "code",
   "execution_count": 20,
   "id": "2d5d16cf",
   "metadata": {},
   "outputs": [
    {
     "data": {
      "text/plain": [
       "['__class__',\n",
       " '__delattr__',\n",
       " '__dict__',\n",
       " '__dir__',\n",
       " '__doc__',\n",
       " '__eq__',\n",
       " '__format__',\n",
       " '__ge__',\n",
       " '__getattribute__',\n",
       " '__gt__',\n",
       " '__hash__',\n",
       " '__init__',\n",
       " '__init_subclass__',\n",
       " '__le__',\n",
       " '__lt__',\n",
       " '__module__',\n",
       " '__ne__',\n",
       " '__new__',\n",
       " '__reduce__',\n",
       " '__reduce_ex__',\n",
       " '__repr__',\n",
       " '__setattr__',\n",
       " '__sizeof__',\n",
       " '__str__',\n",
       " '__subclasshook__',\n",
       " '__weakref__',\n",
       " 'data',\n",
       " 'name']"
      ]
     },
     "execution_count": 20,
     "metadata": {},
     "output_type": "execute_result"
    }
   ],
   "source": [
    "dir(Dave) #dir안에 선언한 attribute 확인"
   ]
  },
  {
   "cell_type": "code",
   "execution_count": 21,
   "id": "af7347e0",
   "metadata": {},
   "outputs": [
    {
     "data": {
      "text/plain": [
       "['__class__',\n",
       " '__delattr__',\n",
       " '__dict__',\n",
       " '__dir__',\n",
       " '__doc__',\n",
       " '__eq__',\n",
       " '__format__',\n",
       " '__ge__',\n",
       " '__getattribute__',\n",
       " '__gt__',\n",
       " '__hash__',\n",
       " '__init__',\n",
       " '__init_subclass__',\n",
       " '__le__',\n",
       " '__lt__',\n",
       " '__module__',\n",
       " '__ne__',\n",
       " '__new__',\n",
       " '__reduce__',\n",
       " '__reduce_ex__',\n",
       " '__repr__',\n",
       " '__setattr__',\n",
       " '__sizeof__',\n",
       " '__str__',\n",
       " '__subclasshook__',\n",
       " '__weakref__',\n",
       " 'color',\n",
       " 'height',\n",
       " 'width']"
      ]
     },
     "execution_count": 21,
     "metadata": {},
     "output_type": "execute_result"
    }
   ],
   "source": [
    "dir(Quadrangle) #dir안에 선언한 attribute 확인"
   ]
  },
  {
   "cell_type": "code",
   "execution_count": 22,
   "id": "b981c8bb",
   "metadata": {},
   "outputs": [],
   "source": [
    "square1=Quadrangle()\n",
    "square2=Quadrangle()"
   ]
  },
  {
   "cell_type": "code",
   "execution_count": 23,
   "id": "8b913a0b",
   "metadata": {},
   "outputs": [],
   "source": [
    "dave_object=Dave()"
   ]
  },
  {
   "cell_type": "code",
   "execution_count": 27,
   "id": "1c6a4af4",
   "metadata": {},
   "outputs": [
    {
     "data": {
      "text/plain": [
       "'black'"
      ]
     },
     "execution_count": 27,
     "metadata": {},
     "output_type": "execute_result"
    }
   ],
   "source": [
    "#객체의 attribute 접근하기\n",
    "#객체명.attribute명\n",
    "square1.color"
   ]
  },
  {
   "cell_type": "code",
   "execution_count": 28,
   "id": "894bb43c",
   "metadata": {},
   "outputs": [],
   "source": [
    "square2.color='red'"
   ]
  },
  {
   "cell_type": "code",
   "execution_count": 29,
   "id": "a3c39b35",
   "metadata": {},
   "outputs": [
    {
     "data": {
      "text/plain": [
       "'red'"
      ]
     },
     "execution_count": 29,
     "metadata": {},
     "output_type": "execute_result"
    }
   ],
   "source": [
    "square2.color"
   ]
  },
  {
   "cell_type": "code",
   "execution_count": 30,
   "id": "e45975b3",
   "metadata": {},
   "outputs": [],
   "source": [
    "square1.height=5"
   ]
  },
  {
   "cell_type": "code",
   "execution_count": 31,
   "id": "2fbbb252",
   "metadata": {},
   "outputs": [
    {
     "name": "stdout",
     "output_type": "stream",
     "text": [
      "5 0\n"
     ]
    }
   ],
   "source": [
    "print(square1.height,square2.height)"
   ]
  },
  {
   "cell_type": "code",
   "execution_count": 1,
   "id": "f2f8c40d",
   "metadata": {},
   "outputs": [],
   "source": [
    "##초간단 연습문제1\n",
    "class square:\n",
    "    width=0\n",
    "    height=0\n",
    "    color=''    "
   ]
  },
  {
   "cell_type": "code",
   "execution_count": 2,
   "id": "e732e3d4",
   "metadata": {},
   "outputs": [
    {
     "name": "stdout",
     "output_type": "stream",
     "text": [
      "10 5 red\n",
      "7 7 blue\n"
     ]
    }
   ],
   "source": [
    "sq1=square()\n",
    "sq2=square()\n",
    "\n",
    "sq1.width=10\n",
    "sq1.height=5\n",
    "sq1.color='red'\n",
    "sq2.width=7\n",
    "sq2.height=7\n",
    "sq2.color='blue'\n",
    "\n",
    "print(sq1.width,sq1.height,sq1.color)\n",
    "print(sq2.width,sq2.height,sq2.color)"
   ]
  },
  {
   "cell_type": "code",
   "execution_count": 4,
   "id": "d4ce20fa",
   "metadata": {},
   "outputs": [],
   "source": [
    "#사각형 넗이 구하기 ===> 메소드 포함하기\n",
    "class Quadrangle:\n",
    "    width=0\n",
    "    height=0\n",
    "    color='black'\n",
    "    \n",
    "    def get_area(self):\n",
    "        return self.width * self.height\n",
    "    \n",
    "    def set_area(self,w,h):\n",
    "        self.width=w\n",
    "        self.height=h"
   ]
  },
  {
   "cell_type": "code",
   "execution_count": 8,
   "id": "8b4a2da1",
   "metadata": {},
   "outputs": [
    {
     "name": "stdout",
     "output_type": "stream",
     "text": [
      "5 5\n"
     ]
    }
   ],
   "source": [
    "#객체의 메소드 접근\n",
    "sq=Quadrangle()\n",
    "sq.set_area(5,5)\n",
    "print(sq.width,sq.height)"
   ]
  },
  {
   "cell_type": "code",
   "execution_count": 9,
   "id": "98cadcf0",
   "metadata": {},
   "outputs": [
    {
     "data": {
      "text/plain": [
       "25"
      ]
     },
     "execution_count": 9,
     "metadata": {},
     "output_type": "execute_result"
    }
   ],
   "source": [
    "sq.get_area()"
   ]
  },
  {
   "cell_type": "code",
   "execution_count": 11,
   "id": "c431d2d4",
   "metadata": {},
   "outputs": [
    {
     "name": "stdout",
     "output_type": "stream",
     "text": [
      "50\n",
      "49\n"
     ]
    }
   ],
   "source": [
    "#연습문제2 Quadrangle클래스를 기반으로 직사각형 1개 객체 정사각형 1개 객체를 생성하고 너비 출력\n",
    "class Quadrangle:\n",
    "    width=0\n",
    "    height=0\n",
    "    color='black'\n",
    "    \n",
    "    def get_area(self):\n",
    "        return self.width * self.height\n",
    "    def set_area(self,w,h):\n",
    "        self.width=w\n",
    "        self.height=h\n",
    "sq1=Quadrangle() #직사각형\n",
    "sq2=Quadrangle() #정사각형\n",
    "\n",
    "sq1.set_area(10,5) #직사각형 객체의 메소드 접근\n",
    "sq2.set_area(7,7) #정사각형 객체의 메소드 접근\n",
    "sq1.color='red'\n",
    "sq2.color='blue'\n",
    "\n",
    "print(sq1.get_area())\n",
    "print(sq2.get_area())"
   ]
  },
  {
   "cell_type": "code",
   "execution_count": 12,
   "id": "612718a4",
   "metadata": {},
   "outputs": [
    {
     "name": "stdout",
     "output_type": "stream",
     "text": [
      "50\n",
      "49\n"
     ]
    }
   ],
   "source": [
    "#연습문제3 Quadrangle클래스를 기반으로 직사각형 1개 객체 정사각형 1개 객체를 생성하고 너비 출력\n",
    "class Quadrangle:\n",
    "    width=0\n",
    "    height=0\n",
    "    color='black'\n",
    "    \n",
    "    def get_area(self):\n",
    "        return self.width * self.height\n",
    "    def set_area(self,w,h,c):\n",
    "        self.width=w\n",
    "        self.height=h\n",
    "        self.color=c\n",
    "sq1=Quadrangle() #직사각형\n",
    "sq2=Quadrangle() #정사각형\n",
    "\n",
    "sq1.set_area(10,5,'red') #직사각형 객체의 메소드 접근\n",
    "sq2.set_area(7,7,'blue') #정사각형 객체의 메소드 접근\n",
    "\n",
    "\n",
    "print(sq1.get_area())\n",
    "print(sq2.get_area())"
   ]
  },
  {
   "cell_type": "code",
   "execution_count": null,
   "id": "cb04512a",
   "metadata": {},
   "outputs": [],
   "source": []
  }
 ],
 "metadata": {
  "kernelspec": {
   "display_name": "Python 3",
   "language": "python",
   "name": "python3"
  },
  "language_info": {
   "codemirror_mode": {
    "name": "ipython",
    "version": 3
   },
   "file_extension": ".py",
   "mimetype": "text/x-python",
   "name": "python",
   "nbconvert_exporter": "python",
   "pygments_lexer": "ipython3",
   "version": "3.8.8"
  }
 },
 "nbformat": 4,
 "nbformat_minor": 5
}
