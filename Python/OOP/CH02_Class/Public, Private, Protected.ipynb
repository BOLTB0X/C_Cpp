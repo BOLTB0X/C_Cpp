{
 "cells": [
  {
   "cell_type": "code",
   "execution_count": 8,
   "id": "b3445a5d",
   "metadata": {},
   "outputs": [],
   "source": [
    "# 정보은닉(Information Hiding)방식\n",
    "# -class의 attribute, method에 대해 접근을 제어할 수 있는 기능\n",
    "# private -> protected -> public\n",
    "# -private: attribute,mothed는 해당 클래스에서만 사용가능\n",
    "# -protected: attribute,mothed는 해당 클래스, 상속받은 클래스에서만 사용가능\n",
    "# -public: attribute,mothed는 어떠한 클래스에서만 사용가능\n",
    "\n",
    "class Quadrangle:\n",
    "    #즉 이것들은 Public\n",
    "    def __init__(self,width,height,color): #생성자\n",
    "        self.width=width\n",
    "        self.height=height\n",
    "        self.color=color\n",
    "        \n",
    "    def get_area(self):\n",
    "        return self.width * self.height\n",
    "    \n",
    "    def set_area(self,width,height):\n",
    "        self.width=width\n",
    "        self.height=height"
   ]
  },
  {
   "cell_type": "code",
   "execution_count": 9,
   "id": "e7cbb202",
   "metadata": {},
   "outputs": [
    {
     "name": "stdout",
     "output_type": "stream",
     "text": [
      "25\n",
      "5\n",
      "50\n"
     ]
    }
   ],
   "source": [
    "sq = Quadrangle(5,5,\"black\")\n",
    "print(sq.get_area())\n",
    "print(sq.width)\n",
    "sq.width=10\n",
    "print(sq.get_area())"
   ]
  },
  {
   "cell_type": "code",
   "execution_count": 10,
   "id": "fe558360",
   "metadata": {},
   "outputs": [
    {
     "data": {
      "text/plain": [
       "['__class__',\n",
       " '__delattr__',\n",
       " '__dict__',\n",
       " '__dir__',\n",
       " '__doc__',\n",
       " '__eq__',\n",
       " '__format__',\n",
       " '__ge__',\n",
       " '__getattribute__',\n",
       " '__gt__',\n",
       " '__hash__',\n",
       " '__init__',\n",
       " '__init_subclass__',\n",
       " '__le__',\n",
       " '__lt__',\n",
       " '__module__',\n",
       " '__ne__',\n",
       " '__new__',\n",
       " '__reduce__',\n",
       " '__reduce_ex__',\n",
       " '__repr__',\n",
       " '__setattr__',\n",
       " '__sizeof__',\n",
       " '__str__',\n",
       " '__subclasshook__',\n",
       " '__weakref__',\n",
       " 'color',\n",
       " 'get_area',\n",
       " 'height',\n",
       " 'set_area',\n",
       " 'width']"
      ]
     },
     "execution_count": 10,
     "metadata": {},
     "output_type": "execute_result"
    }
   ],
   "source": [
    "dir(sq)"
   ]
  },
  {
   "cell_type": "code",
   "execution_count": 13,
   "id": "25461bb1",
   "metadata": {},
   "outputs": [],
   "source": [
    "#protected\n",
    "#메소드나 attribute에 _표시\n",
    "class Quadrangle:\n",
    "    #즉 이것들은 Public\n",
    "    def __init__(self,width,height,color): #생성자\n",
    "        self._width=width\n",
    "        self._height=height\n",
    "        self._color=color\n",
    "        \n",
    "    def get_area(self):\n",
    "        return self._width * self._height\n",
    "    \n",
    "    def _set_area(self,width,height):\n",
    "        self._width=width\n",
    "        self._height=height"
   ]
  },
  {
   "cell_type": "code",
   "execution_count": 14,
   "id": "e98b7b1c",
   "metadata": {},
   "outputs": [
    {
     "name": "stdout",
     "output_type": "stream",
     "text": [
      "25\n",
      "5\n",
      "50\n",
      "9\n"
     ]
    }
   ],
   "source": [
    "sq = Quadrangle(5,5,\"black\")\n",
    "print(sq.get_area())\n",
    "print(sq._width)\n",
    "sq._width=10\n",
    "print(sq.get_area())\n",
    "sq._set_area(3,3)\n",
    "print(sq.get_area())"
   ]
  },
  {
   "cell_type": "code",
   "execution_count": 20,
   "id": "0baca48b",
   "metadata": {},
   "outputs": [],
   "source": [
    "#private\n",
    "#메소드나 attribute에 __표시\n",
    "\n",
    "class Quadrangle:\n",
    "    #즉 이것들은 Public\n",
    "    def __init__(self,width,height,color): #생성자\n",
    "        self.__width=width\n",
    "        self.__height=height\n",
    "        self.__color=color\n",
    "        \n",
    "    def get_area(self):\n",
    "        return self.__width * self.__height\n",
    "    \n",
    "    def __set_area(self,width,height):\n",
    "        self.__width=width\n",
    "        self.__height=height"
   ]
  },
  {
   "cell_type": "code",
   "execution_count": 21,
   "id": "ce1b518a",
   "metadata": {},
   "outputs": [],
   "source": [
    "sq=Quadrangle(5,5,'black')"
   ]
  },
  {
   "cell_type": "code",
   "execution_count": 22,
   "id": "480e00e3",
   "metadata": {},
   "outputs": [
    {
     "data": {
      "text/plain": [
       "['_Quadrangle__color',\n",
       " '_Quadrangle__height',\n",
       " '_Quadrangle__set_area',\n",
       " '_Quadrangle__width',\n",
       " '__class__',\n",
       " '__delattr__',\n",
       " '__dict__',\n",
       " '__dir__',\n",
       " '__doc__',\n",
       " '__eq__',\n",
       " '__format__',\n",
       " '__ge__',\n",
       " '__getattribute__',\n",
       " '__gt__',\n",
       " '__hash__',\n",
       " '__init__',\n",
       " '__init_subclass__',\n",
       " '__le__',\n",
       " '__lt__',\n",
       " '__module__',\n",
       " '__ne__',\n",
       " '__new__',\n",
       " '__reduce__',\n",
       " '__reduce_ex__',\n",
       " '__repr__',\n",
       " '__setattr__',\n",
       " '__sizeof__',\n",
       " '__str__',\n",
       " '__subclasshook__',\n",
       " '__weakref__',\n",
       " 'get_area']"
      ]
     },
     "execution_count": 22,
     "metadata": {},
     "output_type": "execute_result"
    }
   ],
   "source": [
    "dir(sq)"
   ]
  },
  {
   "cell_type": "code",
   "execution_count": 23,
   "id": "bb8225bd",
   "metadata": {},
   "outputs": [
    {
     "ename": "AttributeError",
     "evalue": "'Quadrangle' object has no attribute '__set_area'",
     "output_type": "error",
     "traceback": [
      "\u001b[1;31m---------------------------------------------------------------------------\u001b[0m",
      "\u001b[1;31mAttributeError\u001b[0m                            Traceback (most recent call last)",
      "\u001b[1;32m<ipython-input-23-2afb8bcdb8d9>\u001b[0m in \u001b[0;36m<module>\u001b[1;34m\u001b[0m\n\u001b[0;32m      1\u001b[0m \u001b[0msq\u001b[0m\u001b[1;33m=\u001b[0m\u001b[0mQuadrangle\u001b[0m\u001b[1;33m(\u001b[0m\u001b[1;36m5\u001b[0m\u001b[1;33m,\u001b[0m\u001b[1;36m5\u001b[0m\u001b[1;33m,\u001b[0m\u001b[1;34m'black'\u001b[0m\u001b[1;33m)\u001b[0m\u001b[1;33m\u001b[0m\u001b[1;33m\u001b[0m\u001b[0m\n\u001b[1;32m----> 2\u001b[1;33m \u001b[0mprint\u001b[0m\u001b[1;33m(\u001b[0m\u001b[0msq\u001b[0m\u001b[1;33m.\u001b[0m\u001b[0m__set_area\u001b[0m\u001b[1;33m(\u001b[0m\u001b[1;36m10\u001b[0m\u001b[1;33m,\u001b[0m\u001b[1;36m10\u001b[0m\u001b[1;33m)\u001b[0m\u001b[1;33m)\u001b[0m\u001b[1;33m\u001b[0m\u001b[1;33m\u001b[0m\u001b[0m\n\u001b[0m",
      "\u001b[1;31mAttributeError\u001b[0m: 'Quadrangle' object has no attribute '__set_area'"
     ]
    }
   ],
   "source": [
    "sq=Quadrangle(5,5,'black')\n",
    "print(sq.__set_area(10,10))"
   ]
  },
  {
   "cell_type": "code",
   "execution_count": 24,
   "id": "f34d19bd",
   "metadata": {},
   "outputs": [
    {
     "ename": "AttributeError",
     "evalue": "'Quadrangle' object has no attribute '__width'",
     "output_type": "error",
     "traceback": [
      "\u001b[1;31m---------------------------------------------------------------------------\u001b[0m",
      "\u001b[1;31mAttributeError\u001b[0m                            Traceback (most recent call last)",
      "\u001b[1;32m<ipython-input-24-89b197154fe6>\u001b[0m in \u001b[0;36m<module>\u001b[1;34m\u001b[0m\n\u001b[1;32m----> 1\u001b[1;33m \u001b[0mprint\u001b[0m\u001b[1;33m(\u001b[0m\u001b[0msq\u001b[0m\u001b[1;33m.\u001b[0m\u001b[0m__width\u001b[0m\u001b[1;33m)\u001b[0m\u001b[1;33m\u001b[0m\u001b[1;33m\u001b[0m\u001b[0m\n\u001b[0m",
      "\u001b[1;31mAttributeError\u001b[0m: 'Quadrangle' object has no attribute '__width'"
     ]
    }
   ],
   "source": [
    "print(sq.__width)"
   ]
  },
  {
   "cell_type": "code",
   "execution_count": 25,
   "id": "85050b0b",
   "metadata": {},
   "outputs": [
    {
     "name": "stdout",
     "output_type": "stream",
     "text": [
      "25\n"
     ]
    }
   ],
   "source": [
    "print(sq.get_area())"
   ]
  },
  {
   "cell_type": "code",
   "execution_count": 26,
   "id": "492b1b83",
   "metadata": {},
   "outputs": [
    {
     "ename": "AttributeError",
     "evalue": "'Quadrangle' object has no attribute '__width'",
     "output_type": "error",
     "traceback": [
      "\u001b[1;31m---------------------------------------------------------------------------\u001b[0m",
      "\u001b[1;31mAttributeError\u001b[0m                            Traceback (most recent call last)",
      "\u001b[1;32m<ipython-input-26-b76f4b707520>\u001b[0m in \u001b[0;36m<module>\u001b[1;34m\u001b[0m\n\u001b[0;32m      1\u001b[0m \u001b[1;31m#연습문제\u001b[0m\u001b[1;33m\u001b[0m\u001b[1;33m\u001b[0m\u001b[1;33m\u001b[0m\u001b[0m\n\u001b[1;32m----> 2\u001b[1;33m \u001b[0mprint\u001b[0m\u001b[1;33m(\u001b[0m\u001b[0msq\u001b[0m\u001b[1;33m.\u001b[0m\u001b[0m__width\u001b[0m\u001b[1;33m)\u001b[0m\u001b[1;33m\u001b[0m\u001b[1;33m\u001b[0m\u001b[0m\n\u001b[0m\u001b[0;32m      3\u001b[0m \u001b[0msq\u001b[0m\u001b[1;33m.\u001b[0m\u001b[0m__width\u001b[0m\u001b[1;33m=\u001b[0m\u001b[1;36m10\u001b[0m\u001b[1;33m\u001b[0m\u001b[1;33m\u001b[0m\u001b[0m\n\u001b[0;32m      4\u001b[0m \u001b[0msq\u001b[0m\u001b[1;33m.\u001b[0m\u001b[0m__set_area\u001b[0m\u001b[1;33m(\u001b[0m\u001b[1;36m3\u001b[0m\u001b[1;33m,\u001b[0m\u001b[1;36m3\u001b[0m\u001b[1;33m)\u001b[0m\u001b[1;33m\u001b[0m\u001b[1;33m\u001b[0m\u001b[0m\n",
      "\u001b[1;31mAttributeError\u001b[0m: 'Quadrangle' object has no attribute '__width'"
     ]
    }
   ],
   "source": [
    "#연습문제\n",
    "print(sq.__width) #해당 속성 메소드가 private이기 때문\n",
    "sq.__width=10\n",
    "sq.__set_area(3,3)"
   ]
  },
  {
   "cell_type": "code",
   "execution_count": null,
   "id": "3c640305",
   "metadata": {},
   "outputs": [],
   "source": []
  }
 ],
 "metadata": {
  "kernelspec": {
   "display_name": "Python 3",
   "language": "python",
   "name": "python3"
  },
  "language_info": {
   "codemirror_mode": {
    "name": "ipython",
    "version": 3
   },
   "file_extension": ".py",
   "mimetype": "text/x-python",
   "name": "python",
   "nbconvert_exporter": "python",
   "pygments_lexer": "ipython3",
   "version": "3.8.8"
  }
 },
 "nbformat": 4,
 "nbformat_minor": 5
}
