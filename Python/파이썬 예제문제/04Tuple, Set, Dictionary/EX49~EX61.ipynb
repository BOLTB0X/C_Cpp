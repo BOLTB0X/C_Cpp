{
 "cells": [
  {
   "cell_type": "code",
   "execution_count": 1,
   "id": "f4f9f752",
   "metadata": {},
   "outputs": [
    {
     "name": "stdout",
     "output_type": "stream",
     "text": [
      "a e\n"
     ]
    }
   ],
   "source": [
    "#ex 49 데이터 구조(튜플)\n",
    "# a,b,c,d,e를 저장하는 튜플을 만들고 첫 번째 튜플값과 마지막 튜플값을 출력하세요\n",
    "\n",
    "tuple=('a','b','c','d','e')\n",
    "print(tuple[0],tuple[len(tuple)-1])"
   ]
  },
  {
   "cell_type": "code",
   "execution_count": 2,
   "id": "6826d8d3",
   "metadata": {},
   "outputs": [
    {
     "ename": "TypeError",
     "evalue": "'tuple' object does not support item assignment",
     "output_type": "error",
     "traceback": [
      "\u001b[1;31m---------------------------------------------------------------------------\u001b[0m",
      "\u001b[1;31mTypeError\u001b[0m                                 Traceback (most recent call last)",
      "\u001b[1;32m<ipython-input-2-4ab5feaec919>\u001b[0m in \u001b[0;36m<module>\u001b[1;34m\u001b[0m\n\u001b[0;32m      3\u001b[0m \u001b[1;33m\u001b[0m\u001b[0m\n\u001b[0;32m      4\u001b[0m \u001b[0mtuple_Data\u001b[0m\u001b[1;33m=\u001b[0m\u001b[1;33m(\u001b[0m\u001b[1;34m'dave'\u001b[0m\u001b[1;33m,\u001b[0m\u001b[1;34m'fun-coding'\u001b[0m\u001b[1;33m,\u001b[0m\u001b[1;34m'endless'\u001b[0m\u001b[1;33m)\u001b[0m\u001b[1;33m\u001b[0m\u001b[1;33m\u001b[0m\u001b[0m\n\u001b[1;32m----> 5\u001b[1;33m \u001b[0mtuple_Data\u001b[0m\u001b[1;33m[\u001b[0m\u001b[1;36m0\u001b[0m\u001b[1;33m]\u001b[0m\u001b[1;33m=\u001b[0m\u001b[1;34m'david'\u001b[0m \u001b[1;31m#튜플은 데이터 수정이 불능\u001b[0m\u001b[1;33m\u001b[0m\u001b[1;33m\u001b[0m\u001b[0m\n\u001b[0m",
      "\u001b[1;31mTypeError\u001b[0m: 'tuple' object does not support item assignment"
     ]
    }
   ],
   "source": [
    "#ex 50 데이터 구조(튜플)\n",
    "#에러가 나는 이유를 설명하세요\n",
    "\n",
    "tuple_Data=('dave','fun-coding','endless')\n",
    "tuple_Data[0]='david' #튜플은 데이터 수정이 불능"
   ]
  },
  {
   "cell_type": "code",
   "execution_count": 4,
   "id": "749761d5",
   "metadata": {},
   "outputs": [
    {
     "name": "stdout",
     "output_type": "stream",
     "text": [
      "2 1\n"
     ]
    }
   ],
   "source": [
    "#ex 51 데이터 구조(튜플)\n",
    "#이렇게 나오는 이유를 튜플 기반으로 설명하세요\n",
    "var1,var2=1,2\n",
    "var1,var2=var2,var1 #스와프 된 것\n",
    "print(var1,var2) #튜플은 수정이 안됨"
   ]
  },
  {
   "cell_type": "code",
   "execution_count": 5,
   "id": "ce18bcae",
   "metadata": {},
   "outputs": [
    {
     "name": "stdout",
     "output_type": "stream",
     "text": [
      "('coding2', 'coding3', 'coding4', 'coding5')\n"
     ]
    }
   ],
   "source": [
    "#ex 52 데이터 구조(튜플)\n",
    "# 두번째 부터 마지막 까지 출력하세요\n",
    "t=('coding1','coding2','coding3','coding4','coding5')\n",
    "print(t[1:]) #슬라이딩 가능"
   ]
  },
  {
   "cell_type": "code",
   "execution_count": 6,
   "id": "ee76fdc0",
   "metadata": {},
   "outputs": [
    {
     "name": "stdout",
     "output_type": "stream",
     "text": [
      "['coding1', 'coding2', 'coding3', 'coding4']\n"
     ]
    }
   ],
   "source": [
    "#ex 53 데이터 구조(튜플과 리스트)\n",
    "# 튜플을 리스트 데이터로 변환한 후에 coding4를 추가하세요\n",
    "t=('coding1','coding2','coding3')\n",
    "l=list(t)\n",
    "l.append('coding4')\n",
    "print(l)"
   ]
  },
  {
   "cell_type": "code",
   "execution_count": 15,
   "id": "e30536c1",
   "metadata": {
    "scrolled": true
   },
   "outputs": [
    {
     "name": "stdout",
     "output_type": "stream",
     "text": [
      "<class 'tuple'> <class 'list'> <class 'dict'>\n"
     ]
    }
   ],
   "source": [
    "#ex 54 데이터 구조(튜플,리스트,딕셔너리)\n",
    "# 빈 튜플,리스트,딕셔너리 변수를 하나씩 각각 만드세요\n",
    "\n",
    "t=()\n",
    "l=[]\n",
    "d={}\n",
    "print(type(t),type(l),type(d))"
   ]
  },
  {
   "cell_type": "code",
   "execution_count": 17,
   "id": "3d40027f",
   "metadata": {},
   "outputs": [
    {
     "name": "stdout",
     "output_type": "stream",
     "text": [
      "['environment', 'company', 'government', 'face']\n",
      "['환경', ',회사', '정부,정치', '얼굴']\n"
     ]
    }
   ],
   "source": [
    "#ex 55 데이터 구조(딕셔너리)\n",
    "# 다음 영어 사전 데이터를 딕셔너리 변수로 만들고 딕셔너리 변수의 key값인 영어단어\n",
    "# value 값인 의미 만을 가진 리스트 변수를 각각 만들고 두 리스트 변수를 출력\n",
    "d={'environment':'환경','company':',회사','government':'정부,정치','face':'얼굴'}\n",
    "d_key=[data for data in d.keys()]\n",
    "d_value=[data for data in d.values()]\n",
    "print(d_key)\n",
    "print(d_value)"
   ]
  },
  {
   "cell_type": "code",
   "execution_count": 21,
   "id": "cd2dd8e3",
   "metadata": {},
   "outputs": [
    {
     "name": "stdout",
     "output_type": "stream",
     "text": [
      "environment : 환경\n",
      "company : 회사\n",
      "government : 정부,정치\n",
      "face : 얼굴\n"
     ]
    }
   ],
   "source": [
    "#ex 56 데이터 구조(딕셔너리)\n",
    "# 딕셔너리 변수를 만들고 반목문을 사용해서 아래처럼 출력하시오\n",
    "# environment : 환경\n",
    "# company : 회사\n",
    "# government : 정부,정치\n",
    "# face : 얼굴\n",
    "d={'environment':'환경','company':'회사','government':'정부,정치','face':'얼굴'}\n",
    "for data in d:\n",
    "    print(data,':',d[data])"
   ]
  },
  {
   "cell_type": "code",
   "execution_count": 24,
   "id": "992eb726",
   "metadata": {},
   "outputs": [
    {
     "name": "stdout",
     "output_type": "stream",
     "text": [
      "environment\n",
      "government\n",
      "face\n"
     ]
    }
   ],
   "source": [
    "#ex 57 데이터 구조(딕셔너리)\n",
    "# 외움표시가 X인 영어단어만 출력하시오\n",
    "# environment : 환경  X\n",
    "# company : 회사      O\n",
    "# government : 정부,정치 X\n",
    "# face : 얼굴 X\n",
    "\n",
    "d={'environment':['환경','X'],'company':['회사','O'],'government':['정부,정치','X'],'face':['얼굴','X']}\n",
    "for data in d.keys():\n",
    "    if d[data][1]=='X':\n",
    "        print(data)"
   ]
  },
  {
   "cell_type": "code",
   "execution_count": 26,
   "id": "0c57ddf6",
   "metadata": {},
   "outputs": [
    {
     "name": "stdout",
     "output_type": "stream",
     "text": [
      "face\n",
      "외운 단어\n",
      "face\n",
      "못외운 단어\n",
      "environment\n",
      "company\n",
      "government\n"
     ]
    }
   ],
   "source": [
    "#ex 58 데이터 구조(딕셔너리)\n",
    "# 입력받은 data를 O로 수정하고\n",
    "# 외움표시가 O인 영어단어만 출력하시오\n",
    "d={'environment':['환경','X'],'company':['회사','X'],'government':['정부,정치','X'],'face':['얼굴','X']}\n",
    "\n",
    "input_data=input()\n",
    "d[input_data][1]='O'\n",
    "print('외운 단어')\n",
    "for data in d.keys():\n",
    "    if d[data][1]=='O':\n",
    "        print(data)\n",
    "print('못외운 단어')\n",
    "for data in d.keys():\n",
    "    if d[data][1]=='X':\n",
    "        print(data)"
   ]
  },
  {
   "cell_type": "code",
   "execution_count": 27,
   "id": "5dc452c7",
   "metadata": {},
   "outputs": [
    {
     "name": "stdout",
     "output_type": "stream",
     "text": [
      "변경 전: {'environment': '환경', 'government': '정부,정치'} \n",
      "\n",
      "변경 후: {'environment': '환경', 'government': '정부,정치', 'company': '회사', 'face': '얼굴', 'apple': '사과'}\n"
     ]
    }
   ],
   "source": [
    "#ex 59 데이터 구조(딕셔너리)\n",
    "# d_all에 d_1 과 d_2의 데이터를 추가해고 출력해라\n",
    "d_all={'environment':'환경','government':'정부,정치'}\n",
    "d_1={'company':'회사','face':'얼굴'}\n",
    "d_2={'apple':'사과'}\n",
    "\n",
    "print(\"변경 전:\",d_all,'\\n')\n",
    "for data in d_1.keys():\n",
    "    d_all[data]=d_1[data]\n",
    "for data in d_2.keys():\n",
    "    d_all[data]=d_2[data]\n",
    "print(\"변경 후:\",d_all)"
   ]
  },
  {
   "cell_type": "code",
   "execution_count": 33,
   "id": "94ed7428",
   "metadata": {},
   "outputs": [
    {
     "name": "stdout",
     "output_type": "stream",
     "text": [
      "배우 이름: 마동석\n",
      "홈페이지: http://\n",
      "작품 갯수: 3\n"
     ]
    }
   ],
   "source": [
    "#ex60 데이터 구조(딕셔너리)\n",
    "# actor_info 딕셔너리 변수를 만들고, 홈페이지,배우 이름, 최근 출연 영화 갯수를 출력해라\n",
    "\n",
    "actor_info={'actor_details':\n",
    "            {'생년월일':'1971-01-01',\n",
    "           'sex':'man',\n",
    "           'job':'actor',\n",
    "           'homepage':'http://'},\n",
    "            'actor_name':'마동석',\n",
    "            'actor_rate':595959,\n",
    "            'date':'2016',\n",
    "            'list':['범죄도시','부라더','부산행']}\n",
    "print(\"배우 이름:\",actor_info['actor_name'])\n",
    "print(\"홈페이지:\",actor_info['actor_details']['homepage'])\n",
    "print(\"작품 갯수:\",len(actor_info['list']))"
   ]
  },
  {
   "cell_type": "code",
   "execution_count": 35,
   "id": "13389603",
   "metadata": {},
   "outputs": [
    {
     "name": "stdout",
     "output_type": "stream",
     "text": [
      "{1, 2, 3, 4, 5, 6, 7, 8, 9, 10}\n"
     ]
    }
   ],
   "source": [
    "#ex61 데이터 구조(집합)\n",
    "# number_list가 다음과 같은 리스트일 때 중복 숫자를 제거한 리스트를 만들어라\n",
    "num=[5,1,2,2,2,3,4,5,5,6,7,8,9,9,10,10]\n",
    "num_set=set(num)\n",
    "print(num_set)"
   ]
  },
  {
   "cell_type": "code",
   "execution_count": null,
   "id": "82b5d6ec",
   "metadata": {},
   "outputs": [],
   "source": []
  }
 ],
 "metadata": {
  "kernelspec": {
   "display_name": "Python 3",
   "language": "python",
   "name": "python3"
  },
  "language_info": {
   "codemirror_mode": {
    "name": "ipython",
    "version": 3
   },
   "file_extension": ".py",
   "mimetype": "text/x-python",
   "name": "python",
   "nbconvert_exporter": "python",
   "pygments_lexer": "ipython3",
   "version": "3.8.8"
  }
 },
 "nbformat": 4,
 "nbformat_minor": 5
}
