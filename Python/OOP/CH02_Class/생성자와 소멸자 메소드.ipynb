{
 "cells": [
  {
   "cell_type": "code",
   "execution_count": 1,
   "id": "2134fc3f",
   "metadata": {},
   "outputs": [],
   "source": [
    "class Quadrangle:\n",
    "    width=0\n",
    "    height=0\n",
    "    color=\"black\""
   ]
  },
  {
   "cell_type": "code",
   "execution_count": 2,
   "id": "3da2b59b",
   "metadata": {},
   "outputs": [],
   "source": [
    "sq=Quadrangle()"
   ]
  },
  {
   "cell_type": "code",
   "execution_count": 3,
   "id": "8151aa79",
   "metadata": {},
   "outputs": [
    {
     "ename": "NameError",
     "evalue": "name 'self' is not defined",
     "output_type": "error",
     "traceback": [
      "\u001b[1;31m---------------------------------------------------------------------------\u001b[0m",
      "\u001b[1;31mNameError\u001b[0m                                 Traceback (most recent call last)",
      "\u001b[1;32m<ipython-input-3-594b6379bb1a>\u001b[0m in \u001b[0;36m<module>\u001b[1;34m\u001b[0m\n\u001b[1;32m----> 1\u001b[1;33m \u001b[1;32mclass\u001b[0m \u001b[0mQuadrangle\u001b[0m\u001b[1;33m:\u001b[0m\u001b[1;33m\u001b[0m\u001b[1;33m\u001b[0m\u001b[0m\n\u001b[0m\u001b[0;32m      2\u001b[0m     \u001b[0mself\u001b[0m\u001b[1;33m.\u001b[0m\u001b[0mwidth\u001b[0m\u001b[1;33m=\u001b[0m\u001b[1;36m0\u001b[0m\u001b[1;33m\u001b[0m\u001b[1;33m\u001b[0m\u001b[0m\n\u001b[0;32m      3\u001b[0m     \u001b[0mself\u001b[0m\u001b[1;33m.\u001b[0m\u001b[0mheight\u001b[0m\u001b[1;33m=\u001b[0m\u001b[1;36m0\u001b[0m\u001b[1;33m\u001b[0m\u001b[1;33m\u001b[0m\u001b[0m\n\u001b[0;32m      4\u001b[0m     \u001b[0mself\u001b[0m\u001b[1;33m.\u001b[0m\u001b[0mcolor\u001b[0m\u001b[1;33m=\u001b[0m\u001b[1;34m\"black\"\u001b[0m\u001b[1;33m\u001b[0m\u001b[1;33m\u001b[0m\u001b[0m\n",
      "\u001b[1;32m<ipython-input-3-594b6379bb1a>\u001b[0m in \u001b[0;36mQuadrangle\u001b[1;34m()\u001b[0m\n\u001b[0;32m      1\u001b[0m \u001b[1;32mclass\u001b[0m \u001b[0mQuadrangle\u001b[0m\u001b[1;33m:\u001b[0m\u001b[1;33m\u001b[0m\u001b[1;33m\u001b[0m\u001b[0m\n\u001b[1;32m----> 2\u001b[1;33m     \u001b[0mself\u001b[0m\u001b[1;33m.\u001b[0m\u001b[0mwidth\u001b[0m\u001b[1;33m=\u001b[0m\u001b[1;36m0\u001b[0m\u001b[1;33m\u001b[0m\u001b[1;33m\u001b[0m\u001b[0m\n\u001b[0m\u001b[0;32m      3\u001b[0m     \u001b[0mself\u001b[0m\u001b[1;33m.\u001b[0m\u001b[0mheight\u001b[0m\u001b[1;33m=\u001b[0m\u001b[1;36m0\u001b[0m\u001b[1;33m\u001b[0m\u001b[1;33m\u001b[0m\u001b[0m\n\u001b[0;32m      4\u001b[0m     \u001b[0mself\u001b[0m\u001b[1;33m.\u001b[0m\u001b[0mcolor\u001b[0m\u001b[1;33m=\u001b[0m\u001b[1;34m\"black\"\u001b[0m\u001b[1;33m\u001b[0m\u001b[1;33m\u001b[0m\u001b[0m\n",
      "\u001b[1;31mNameError\u001b[0m: name 'self' is not defined"
     ]
    }
   ],
   "source": [
    "class Quadrangle:\n",
    "    self.width=0\n",
    "    self.height=0\n",
    "    self.color=\"black\""
   ]
  },
  {
   "cell_type": "code",
   "execution_count": 4,
   "id": "4c3eab0d",
   "metadata": {},
   "outputs": [],
   "source": [
    "# 생성자: __init__(self)\n",
    "# -method 이므로 첫 번째 인자는 self로 설정\n",
    "# -생성자에서는 보통 해당 클래스가 다루는 데이터를 정의\n",
    "# 소멸자: __del__(self)\n",
    "# -method 이므로 첫 번쨰 인자는 self로 설정\n",
    "# -클래스 소멸시 호출\n",
    "class Quadrangle:\n",
    "    def __init__(self,width,height,color): #생성자\n",
    "        self.width=width\n",
    "        self.height=height\n",
    "        self.color=color\n",
    "        \n",
    "    def __del__(self): #소멸자\n",
    "        print(\"Quadrangle object is deleted\")\n",
    "sq=Quadrangle(5,5,\"black\")"
   ]
  },
  {
   "cell_type": "code",
   "execution_count": 5,
   "id": "0ed8ca6f",
   "metadata": {},
   "outputs": [
    {
     "name": "stdout",
     "output_type": "stream",
     "text": [
      "5 5 black\n"
     ]
    }
   ],
   "source": [
    "print(sq.width,sq.height,sq.color)"
   ]
  },
  {
   "cell_type": "code",
   "execution_count": 6,
   "id": "01c3222a",
   "metadata": {},
   "outputs": [
    {
     "name": "stdout",
     "output_type": "stream",
     "text": [
      "Quadrangle object is deleted\n"
     ]
    }
   ],
   "source": [
    "#객체 삭재\n",
    "del sq"
   ]
  },
  {
   "cell_type": "code",
   "execution_count": 8,
   "id": "61c1e691",
   "metadata": {},
   "outputs": [],
   "source": [
    "#연습문제\n",
    "# 정삼각형 클래스 생성 정삼각형 이름하기\n",
    "# attribute:정삼각형 한 변의 길이, 삼각형 이름\n",
    "# mothod: 정삼각형 이름 리턴\n",
    "# 생성자에서 attribute value 설정\n",
    "# 소멸자 작성 후, 객체 소멸시 'Object is deleted' 출력\n",
    "\n",
    "import math\n",
    "\n",
    "class Figure:\n",
    "    def __init__(self,length,name): #생성자\n",
    "        self.length=length\n",
    "        self.name=name\n",
    "        \n",
    "    def get_area(self):\n",
    "        return (math.sqrt(3)/2) * self.length**2\n",
    "        # (math.sprt(3)/2) * math.pow(self.length,2) 도 가능\n",
    "        \n",
    "    def get_name(self):\n",
    "        return self.name\n",
    "    \n",
    "    def __del__(self):\n",
    "        print(\"Object is deleted\")"
   ]
  },
  {
   "cell_type": "code",
   "execution_count": 9,
   "id": "2189ff9a",
   "metadata": {},
   "outputs": [
    {
     "name": "stdout",
     "output_type": "stream",
     "text": [
      "86.60254037844386 dave\n"
     ]
    }
   ],
   "source": [
    "sq=Figure(10,'dave')\n",
    "print(sq.get_area(),sq.get_name())"
   ]
  },
  {
   "cell_type": "code",
   "execution_count": 10,
   "id": "03aee340",
   "metadata": {},
   "outputs": [
    {
     "name": "stdout",
     "output_type": "stream",
     "text": [
      "Object is deleted\n"
     ]
    }
   ],
   "source": [
    "del sq"
   ]
  },
  {
   "cell_type": "code",
   "execution_count": 11,
   "id": "a699ab91",
   "metadata": {},
   "outputs": [
    {
     "data": {
      "text/plain": [
       "86.60254037844386"
      ]
     },
     "execution_count": 11,
     "metadata": {},
     "output_type": "execute_result"
    }
   ],
   "source": [
    "# 연습문제\n",
    "# 정삼각형 클래스를 만들고, 너비 출력\n",
    "\n",
    "import math\n",
    "\n",
    "class Quadrangle:\n",
    "    def __init__(self,length): #생성자\n",
    "        self.length=length\n",
    "        \n",
    "    def get_area(self):\n",
    "        return (math.sqrt(3)/2) * self.length**2\n",
    "        # (math.sprt(3)/2) * math.pow(self.length,2) 도 가능\n",
    "\n",
    "sq=Quadrangle(10)\n",
    "sq.get_area()"
   ]
  },
  {
   "cell_type": "code",
   "execution_count": null,
   "id": "24915d61",
   "metadata": {},
   "outputs": [],
   "source": []
  }
 ],
 "metadata": {
  "kernelspec": {
   "display_name": "Python 3",
   "language": "python",
   "name": "python3"
  },
  "language_info": {
   "codemirror_mode": {
    "name": "ipython",
    "version": 3
   },
   "file_extension": ".py",
   "mimetype": "text/x-python",
   "name": "python",
   "nbconvert_exporter": "python",
   "pygments_lexer": "ipython3",
   "version": "3.8.8"
  }
 },
 "nbformat": 4,
 "nbformat_minor": 5
}
