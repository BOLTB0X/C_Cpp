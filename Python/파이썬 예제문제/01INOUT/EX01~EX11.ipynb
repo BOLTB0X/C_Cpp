{
 "cells": [
  {
   "cell_type": "code",
   "execution_count": 1,
   "id": "aac22ff2",
   "metadata": {},
   "outputs": [
    {
     "name": "stdout",
     "output_type": "stream",
     "text": [
      "Hello World\n"
     ]
    }
   ],
   "source": [
    "#ex01 문자열 출력하기\n",
    "print(\"Hello World\")"
   ]
  },
  {
   "cell_type": "code",
   "execution_count": 3,
   "id": "3064f1db",
   "metadata": {},
   "outputs": [
    {
     "name": "stdout",
     "output_type": "stream",
     "text": [
      "Mary' cosmetics\n"
     ]
    }
   ],
   "source": [
    "#ex02 문자열 출력하기\n",
    "print(\"Mary\\' cosmetics\")"
   ]
  },
  {
   "cell_type": "code",
   "execution_count": 4,
   "id": "d816ac92",
   "metadata": {},
   "outputs": [
    {
     "name": "stdout",
     "output_type": "stream",
     "text": [
      "3.14\n"
     ]
    }
   ],
   "source": [
    "#ex03 포맷 연산자\n",
    "digit=3.141592\n",
    "print(\"%.2f\"%digit)"
   ]
  },
  {
   "cell_type": "code",
   "execution_count": 7,
   "id": "7b0963d6",
   "metadata": {},
   "outputs": [
    {
     "name": "stdout",
     "output_type": "stream",
     "text": [
      "1\n",
      "4\n",
      "5\n"
     ]
    }
   ],
   "source": [
    "#ex04 사용자입력\n",
    "fir=int(input())\n",
    "sec=int(input())\n",
    "print(fir+sec)"
   ]
  },
  {
   "cell_type": "code",
   "execution_count": 8,
   "id": "890a1a78",
   "metadata": {},
   "outputs": [
    {
     "name": "stdout",
     "output_type": "stream",
     "text": [
      "HelloHelloHelloHello"
     ]
    }
   ],
   "source": [
    "#ex05 사용자입력\n",
    "for i in range(4):\n",
    "    print(\"Hello\",end='')"
   ]
  },
  {
   "cell_type": "code",
   "execution_count": 10,
   "id": "c24eb039",
   "metadata": {},
   "outputs": [
    {
     "name": "stdout",
     "output_type": "stream",
     "text": [
      "620 100\n"
     ]
    }
   ],
   "source": [
    "#ex06 형변환\n",
    "st='620'\n",
    "digit=100\n",
    "print(int(st),str(digit))"
   ]
  },
  {
   "cell_type": "code",
   "execution_count": 12,
   "id": "1938d443",
   "metadata": {},
   "outputs": [
    {
     "name": "stdout",
     "output_type": "stream",
     "text": [
      "4\n",
      "3\n",
      "7\n",
      "1\n",
      "12\n",
      "1.3333333333333333\n"
     ]
    }
   ],
   "source": [
    "#ex07 사직연산\n",
    "digit1=int(input())\n",
    "digit2=int(input())\n",
    "print(digit1+digit2)\n",
    "print(digit1-digit2)\n",
    "print(digit1*digit2)\n",
    "print(digit1/digit2)"
   ]
  },
  {
   "cell_type": "code",
   "execution_count": 13,
   "id": "666f2e64",
   "metadata": {},
   "outputs": [
    {
     "name": "stdout",
     "output_type": "stream",
     "text": [
      "2\n",
      "5\n",
      "32\n"
     ]
    }
   ],
   "source": [
    "#ex08 거듭제곱\n",
    "digit1=int(input())\n",
    "digit2=int(input())\n",
    "print(digit1**digit2)"
   ]
  },
  {
   "cell_type": "code",
   "execution_count": 14,
   "id": "f691dd40",
   "metadata": {},
   "outputs": [
    {
     "name": "stdout",
     "output_type": "stream",
     "text": [
      "4\n",
      "4\n",
      "8\n",
      "16\n",
      "1\n",
      "0\n"
     ]
    }
   ],
   "source": [
    "#ex09 입력과 출력\n",
    "digit1=int(input())\n",
    "digit2=int(input())\n",
    "print(digit1+digit2)\n",
    "print(digit1*digit2)\n",
    "print(digit1//digit2)\n",
    "print(digit1%digit2)"
   ]
  },
  {
   "cell_type": "code",
   "execution_count": 15,
   "id": "f683f8eb",
   "metadata": {},
   "outputs": [
    {
     "name": "stdout",
     "output_type": "stream",
     "text": [
      "4\n",
      "4\n",
      "4 + 4 = 8\n",
      "4 * 4 = 16\n",
      "4 / 4 = 1.0\n",
      "4 // 4 = 1\n",
      "4 % 4 = 0\n"
     ]
    }
   ],
   "source": [
    "#ex10 입력과 출력\n",
    "digit1=int(input())\n",
    "digit2=int(input())\n",
    "print('{} + {} = {}'.format(digit1,digit2,digit1+digit2))\n",
    "print('{} * {} = {}'.format(digit1,digit2,digit1*digit2))\n",
    "print('{} / {} = {}'.format(digit1,digit2,digit1/digit2))\n",
    "print('{} // {} = {}'.format(digit1,digit2,digit1//digit2))\n",
    "print('{} % {} = {}'.format(digit1,digit2,digit1%digit2))"
   ]
  },
  {
   "cell_type": "code",
   "execution_count": 17,
   "id": "fdaebab0",
   "metadata": {},
   "outputs": [
    {
     "name": "stdout",
     "output_type": "stream",
     "text": [
      "4\n",
      "3\n",
      "4 / 3 = 1.3\n"
     ]
    }
   ],
   "source": [
    "#ex11 입력과 출력\n",
    "digit1=int(input())\n",
    "digit2=int(input())\n",
    "print('{0} / {1} = {2:0.1f}'.format(digit1,digit2,digit1/digit2))"
   ]
  },
  {
   "cell_type": "code",
   "execution_count": null,
   "id": "6e73dca2",
   "metadata": {},
   "outputs": [],
   "source": []
  }
 ],
 "metadata": {
  "kernelspec": {
   "display_name": "Python 3",
   "language": "python",
   "name": "python3"
  },
  "language_info": {
   "codemirror_mode": {
    "name": "ipython",
    "version": 3
   },
   "file_extension": ".py",
   "mimetype": "text/x-python",
   "name": "python",
   "nbconvert_exporter": "python",
   "pygments_lexer": "ipython3",
   "version": "3.8.8"
  }
 },
 "nbformat": 4,
 "nbformat_minor": 5
}
