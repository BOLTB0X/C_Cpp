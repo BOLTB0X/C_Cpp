{
 "cells": [
  {
   "cell_type": "code",
   "execution_count": 1,
   "id": "1890f899",
   "metadata": {},
   "outputs": [
    {
     "name": "stdout",
     "output_type": "stream",
     "text": [
      "55\n"
     ]
    }
   ],
   "source": [
    "#ex31 반복문\n",
    "#1~10까지의 숫자에 대해 모두 더한 값 출력\n",
    "tot=0\n",
    "for n in range(1,11):\n",
    "    tot+=n\n",
    "print(tot)"
   ]
  },
  {
   "cell_type": "code",
   "execution_count": 3,
   "id": "32ac7680",
   "metadata": {},
   "outputs": [
    {
     "name": "stdout",
     "output_type": "stream",
     "text": [
      "5\n",
      "5 * 1 = 5\n",
      "5 * 2 = 10\n",
      "5 * 3 = 15\n",
      "5 * 4 = 20\n",
      "5 * 5 = 25\n",
      "5 * 6 = 30\n",
      "5 * 7 = 35\n",
      "5 * 8 = 40\n",
      "5 * 9 = 45\n"
     ]
    }
   ],
   "source": [
    "#ex32 반복문\n",
    "#2~9까지의 숫자에 입력 받은 후 구구단 출력\n",
    "num=int(input())\n",
    "for i in range(1,10):\n",
    "    print('{} * {} = {}'.format(num,i,num*i))"
   ]
  },
  {
   "cell_type": "code",
   "execution_count": 5,
   "id": "444e6e0a",
   "metadata": {},
   "outputs": [
    {
     "name": "stdout",
     "output_type": "stream",
     "text": [
      "dave,mike,juju\n",
      "dave\n",
      "mike\n",
      "juju\n"
     ]
    }
   ],
   "source": [
    "#ex33 반복문과 문자열 다루기(split)\n",
    "strings=input()\n",
    "for string in strings.split(\",\"):\n",
    "    print(string)"
   ]
  },
  {
   "cell_type": "code",
   "execution_count": 7,
   "id": "7be76939",
   "metadata": {},
   "outputs": [
    {
     "name": "stdout",
     "output_type": "stream",
     "text": [
      "[dave],[david],[andy],[Arthor]\n",
      "dave\n",
      "david\n",
      "andy\n",
      "Arthor\n"
     ]
    }
   ],
   "source": [
    "#ex34 반복문과 문자열 다루기(split)\n",
    "strings=input()\n",
    "for string in strings.split(\",\"):\n",
    "    st=string.strip('[]')\n",
    "    print(st)"
   ]
  },
  {
   "cell_type": "code",
   "execution_count": 9,
   "id": "f9264108",
   "metadata": {},
   "outputs": [
    {
     "name": "stdout",
     "output_type": "stream",
     "text": [
      "3\n",
      "6\n",
      "9\n",
      "12\n",
      "15\n",
      "18\n",
      "21\n",
      "24\n",
      "27\n",
      "30\n"
     ]
    }
   ],
   "source": [
    "#ex35 반복문과 조건문 일정수 출력\n",
    "for num in range(1,31):\n",
    "    if num%3==0:\n",
    "        print(num)\n",
    "    else:\n",
    "        continue"
   ]
  },
  {
   "cell_type": "code",
   "execution_count": 10,
   "id": "f3c8f5ab",
   "metadata": {},
   "outputs": [
    {
     "name": "stdout",
     "output_type": "stream",
     "text": [
      "5050\n"
     ]
    }
   ],
   "source": [
    "#ex36 반복문(while)\n",
    "tot=0\n",
    "num=1\n",
    "while num<=100:\n",
    "    tot+=num\n",
    "    num+=1\n",
    "print(tot)"
   ]
  },
  {
   "cell_type": "code",
   "execution_count": 11,
   "id": "61d9d2bc",
   "metadata": {},
   "outputs": [
    {
     "name": "stdout",
     "output_type": "stream",
     "text": [
      "1231\n",
      "비밀번호가 틀렸습니다.\n",
      "2333\n",
      "비밀번호가 틀렸습니다.\n",
      "4444\n",
      "비밀번호가 틀렸습니다.\n",
      "4312\n",
      "비밀번호가 맞습니다.\n"
     ]
    }
   ],
   "source": [
    "#ex37 반복문(while) password가 같을 때\n",
    "password='4312'\n",
    "while True:\n",
    "    input_data=input()\n",
    "    if input_data==password:\n",
    "        print(\"비밀번호가 맞습니다.\")\n",
    "        break\n",
    "    else:\n",
    "        print('비밀번호가 틀렸습니다.')"
   ]
  },
  {
   "cell_type": "code",
   "execution_count": 12,
   "id": "d91aef8f",
   "metadata": {},
   "outputs": [
    {
     "name": "stdout",
     "output_type": "stream",
     "text": [
      "[0, 31, 22, 33]\n"
     ]
    }
   ],
   "source": [
    "#ex38 데이터 구조와 반복문(List)\n",
    "nums=[0,-11,31,22,-11,33,-44,-55]\n",
    "p_nums=[]\n",
    "for num in nums:\n",
    "    if num>=0:\n",
    "        p_nums.append(num)\n",
    "print(p_nums)"
   ]
  },
  {
   "cell_type": "code",
   "execution_count": 13,
   "id": "3b6216ee",
   "metadata": {},
   "outputs": [
    {
     "name": "stdout",
     "output_type": "stream",
     "text": [
      "Linux\n",
      "python\n",
      "java\n",
      "c\n",
      "c++\n",
      "c#\n",
      "javascript\n"
     ]
    }
   ],
   "source": [
    "#ex39 데이터 구조와 반복문(List)\n",
    "datas=['Linux','python','java','c','c++','c#','javascript']\n",
    "for data in datas:\n",
    "    print(data)"
   ]
  },
  {
   "cell_type": "code",
   "execution_count": 15,
   "id": "25811b60",
   "metadata": {},
   "outputs": [
    {
     "name": "stdout",
     "output_type": "stream",
     "text": [
      "10\n",
      "9\n",
      "8\n",
      "7\n",
      "6\n",
      "5\n",
      "4\n",
      "3\n",
      "2\n",
      "1\n",
      "10 9 8 7 6 5 4 3 2 1\n"
     ]
    }
   ],
   "source": [
    "#ex40 데이터 구조와 반복문(List)\n",
    "datas=[i for i in range(1,11)]\n",
    "for i in range(len(datas)-1,-1,-1):\n",
    "    print(datas[i])\n",
    "datas.sort(reverse=True)\n",
    "print(*datas)"
   ]
  },
  {
   "cell_type": "code",
   "execution_count": 17,
   "id": "98e293ba",
   "metadata": {},
   "outputs": [
    {
     "name": "stdout",
     "output_type": "stream",
     "text": [
      "exercise01\n",
      "exercise02\n",
      "exercise03\n",
      "exercise04\n",
      "exercise05\n"
     ]
    }
   ],
   "source": [
    "#ex41 데이터 구조와 반복문,문자열 다루기\n",
    "files=['exercise01.docx','exercise02.docx','exercise03.docx','exercise04.docx','exercise05.docx']\n",
    "for file in files:\n",
    "    print(file.split(\".\")[0])"
   ]
  },
  {
   "cell_type": "code",
   "execution_count": 20,
   "id": "b22599cd",
   "metadata": {},
   "outputs": [
    {
     "name": "stdout",
     "output_type": "stream",
     "text": [
      "exercise02.txt\n",
      "exercise03.txt\n",
      "exercise06.txt\n",
      "exercise07.txt\n"
     ]
    }
   ],
   "source": [
    "#ex42 데이터 구조와 반복문,문자열 다루기\n",
    "files=['exercise01.docx','exercise02.txt',\n",
    "       'exercise03.txt','exercise04.docx',\n",
    "       'exercise05.docx','exercise06.txt',\n",
    "       'exercise07.pdf','exercise07.txt']\n",
    "for file in files:\n",
    "    if file.split(\".\")[1]=='txt':\n",
    "        print(file)"
   ]
  },
  {
   "cell_type": "code",
   "execution_count": 22,
   "id": "2cf2216d",
   "metadata": {},
   "outputs": [
    {
     "name": "stdout",
     "output_type": "stream",
     "text": [
      "111200 원\n"
     ]
    }
   ],
   "source": [
    "#ex43 문자열 다루기와 조건문\n",
    "prices='100 달러'\n",
    "print(int(prices.split(' ')[0])*1112,'원')"
   ]
  },
  {
   "cell_type": "code",
   "execution_count": 23,
   "id": "eb0167ba",
   "metadata": {},
   "outputs": [
    {
     "name": "stdout",
     "output_type": "stream",
     "text": [
      "100 위안\n",
      "17100 원\n"
     ]
    }
   ],
   "source": [
    "#ex44 문자열 다루기와 조건문\n",
    "prices=input()\n",
    "if prices.split(' ')[1]=='달러':\n",
    "    print(int(prices.split(' ')[0])*1112,'원')\n",
    "else:\n",
    "    print(int(prices.split(' ')[0])*171,'원')"
   ]
  },
  {
   "cell_type": "code",
   "execution_count": 25,
   "id": "362d1294",
   "metadata": {},
   "outputs": [
    {
     "name": "stdout",
     "output_type": "stream",
     "text": [
      "100 달러\n",
      "111200\n"
     ]
    }
   ],
   "source": [
    "#ex45 문자열 다루기와 조건문 그리고 데이터구조(딕셔너리)\n",
    "exchange={\"달러\":1112,\"위안\":171,\"엔\":1010}\n",
    "prices=input()\n",
    "price=prices.split()\n",
    "if price[1]==\"달러\" or price[1]==\"위안\" or price[1]==\"엔\":\n",
    "    print(int(price[0])*exchange[price[1]])"
   ]
  },
  {
   "cell_type": "code",
   "execution_count": 27,
   "id": "b4c207e7",
   "metadata": {},
   "outputs": [
    {
     "name": "stdout",
     "output_type": "stream",
     "text": [
      "2 X 1 = 2\n",
      "2 X 2 = 4\n",
      "2 X 3 = 6\n",
      "2 X 4 = 8\n",
      "2 X 5 = 10\n",
      "2 X 6 = 12\n",
      "2 X 7 = 14\n",
      "2 X 8 = 16\n",
      "2 X 9 = 18\n",
      "\n",
      "3 X 1 = 3\n",
      "3 X 2 = 6\n",
      "3 X 3 = 9\n",
      "3 X 4 = 12\n",
      "3 X 5 = 15\n",
      "3 X 6 = 18\n",
      "3 X 7 = 21\n",
      "3 X 8 = 24\n",
      "3 X 9 = 27\n",
      "\n",
      "4 X 1 = 4\n",
      "4 X 2 = 8\n",
      "4 X 3 = 12\n",
      "4 X 4 = 16\n",
      "4 X 5 = 20\n",
      "4 X 6 = 24\n",
      "4 X 7 = 28\n",
      "4 X 8 = 32\n",
      "4 X 9 = 36\n",
      "\n",
      "5 X 1 = 5\n",
      "5 X 2 = 10\n",
      "5 X 3 = 15\n",
      "5 X 4 = 20\n",
      "5 X 5 = 25\n",
      "5 X 6 = 30\n",
      "5 X 7 = 35\n",
      "5 X 8 = 40\n",
      "5 X 9 = 45\n",
      "\n",
      "6 X 1 = 6\n",
      "6 X 2 = 12\n",
      "6 X 3 = 18\n",
      "6 X 4 = 24\n",
      "6 X 5 = 30\n",
      "6 X 6 = 36\n",
      "6 X 7 = 42\n",
      "6 X 8 = 48\n",
      "6 X 9 = 54\n",
      "\n",
      "7 X 1 = 7\n",
      "7 X 2 = 14\n",
      "7 X 3 = 21\n",
      "7 X 4 = 28\n",
      "7 X 5 = 35\n",
      "7 X 6 = 42\n",
      "7 X 7 = 49\n",
      "7 X 8 = 56\n",
      "7 X 9 = 63\n",
      "\n",
      "8 X 1 = 8\n",
      "8 X 2 = 16\n",
      "8 X 3 = 24\n",
      "8 X 4 = 32\n",
      "8 X 5 = 40\n",
      "8 X 6 = 48\n",
      "8 X 7 = 56\n",
      "8 X 8 = 64\n",
      "8 X 9 = 72\n",
      "\n",
      "9 X 1 = 9\n",
      "9 X 2 = 18\n",
      "9 X 3 = 27\n",
      "9 X 4 = 36\n",
      "9 X 5 = 45\n",
      "9 X 6 = 54\n",
      "9 X 7 = 63\n",
      "9 X 8 = 72\n",
      "9 X 9 = 81\n",
      "\n"
     ]
    }
   ],
   "source": [
    "#ex46 이중 반복문\n",
    "for i in range(2,10):\n",
    "    for j in range(1,10):\n",
    "        print(\"{} X {} = {}\".format(i,j,i*j))\n",
    "    print()"
   ]
  },
  {
   "cell_type": "code",
   "execution_count": 28,
   "id": "0e35f134",
   "metadata": {},
   "outputs": [
    {
     "name": "stdout",
     "output_type": "stream",
     "text": [
      "2 X 1 = 2\n",
      "2 X 2 = 4\n",
      "2 X 3 = 6\n",
      "2 X 4 = 8\n",
      "2 X 5 = 10\n",
      "2 X 6 = 12\n",
      "2 X 7 = 14\n",
      "2 X 8 = 16\n",
      "2 X 9 = 18\n",
      "\n",
      "3 X 2 = 6\n",
      "3 X 4 = 12\n",
      "3 X 6 = 18\n",
      "3 X 8 = 24\n",
      "\n",
      "4 X 1 = 4\n",
      "4 X 2 = 8\n",
      "4 X 3 = 12\n",
      "4 X 4 = 16\n",
      "4 X 5 = 20\n",
      "4 X 6 = 24\n",
      "4 X 7 = 28\n",
      "4 X 8 = 32\n",
      "4 X 9 = 36\n",
      "\n",
      "5 X 2 = 10\n",
      "5 X 4 = 20\n",
      "5 X 6 = 30\n",
      "5 X 8 = 40\n",
      "\n",
      "6 X 1 = 6\n",
      "6 X 2 = 12\n",
      "6 X 3 = 18\n",
      "6 X 4 = 24\n",
      "6 X 5 = 30\n",
      "6 X 6 = 36\n",
      "6 X 7 = 42\n",
      "6 X 8 = 48\n",
      "6 X 9 = 54\n",
      "\n",
      "7 X 2 = 14\n",
      "7 X 4 = 28\n",
      "7 X 6 = 42\n",
      "7 X 8 = 56\n",
      "\n",
      "8 X 1 = 8\n",
      "8 X 2 = 16\n",
      "8 X 3 = 24\n",
      "8 X 4 = 32\n",
      "8 X 5 = 40\n",
      "8 X 6 = 48\n",
      "8 X 7 = 56\n",
      "8 X 8 = 64\n",
      "8 X 9 = 72\n",
      "\n",
      "9 X 2 = 18\n",
      "9 X 4 = 36\n",
      "9 X 6 = 54\n",
      "9 X 8 = 72\n",
      "\n"
     ]
    }
   ],
   "source": [
    "#ex47 이중 반복문 조건문 \n",
    "for i in range(2,10):\n",
    "    for j in range(1,10):\n",
    "        if (i*j)%2==0:\n",
    "            print(\"{} X {} = {}\".format(i,j,i*j))\n",
    "    print()"
   ]
  },
  {
   "cell_type": "code",
   "execution_count": 29,
   "id": "d17e9180",
   "metadata": {},
   "outputs": [
    {
     "name": "stdout",
     "output_type": "stream",
     "text": [
      "101동 101호\n",
      "101동 102호\n",
      "101동 103호\n",
      "101동 104호\n",
      "101동 105호\n",
      "\n",
      "102동 101호\n",
      "102동 102호\n",
      "102동 103호\n",
      "102동 104호\n",
      "102동 105호\n",
      "\n",
      "103동 101호\n",
      "103동 102호\n",
      "103동 103호\n",
      "103동 104호\n",
      "103동 105호\n",
      "\n"
     ]
    }
   ],
   "source": [
    "#ex48 이중 반복문과 데이터구조(리스트)\n",
    "dongs=[\"101동\",\"102동\",\"103동\"]\n",
    "hos=[\"101호\",\"102호\",\"103호\",\"104호\",\"105호\"]\n",
    "for d in dongs:\n",
    "    for h in hos:\n",
    "        print(d,h)\n",
    "    print()"
   ]
  },
  {
   "cell_type": "code",
   "execution_count": null,
   "id": "7b3b79f5",
   "metadata": {},
   "outputs": [],
   "source": []
  }
 ],
 "metadata": {
  "kernelspec": {
   "display_name": "Python 3",
   "language": "python",
   "name": "python3"
  }
 },
 "nbformat": 4,
 "nbformat_minor": 5
}
