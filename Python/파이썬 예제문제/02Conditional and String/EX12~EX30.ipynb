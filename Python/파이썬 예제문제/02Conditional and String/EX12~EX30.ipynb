{
 "cells": [
  {
   "cell_type": "code",
   "execution_count": 1,
   "id": "cac2ac55",
   "metadata": {},
   "outputs": [
    {
     "name": "stdout",
     "output_type": "stream",
     "text": [
      "<class 'int'>\n",
      "<class 'float'>\n",
      "<class 'str'>\n"
     ]
    }
   ],
   "source": [
    "#ex12 기본자료형\n",
    "digit1=10\n",
    "digit2=2.2\n",
    "string1='fun-coding'\n",
    "\n",
    "print(type(digit1))\n",
    "print(type(digit2))\n",
    "print(type(string1))"
   ]
  },
  {
   "cell_type": "code",
   "execution_count": 2,
   "id": "bdc99878",
   "metadata": {},
   "outputs": [
    {
     "name": "stdout",
     "output_type": "stream",
     "text": [
      "00060\n",
      "00000102\t12312312\n"
     ]
    }
   ],
   "source": [
    "#ex13 기본자료형\n",
    "code='00060\\n00000102\\t12312312'\n",
    "print(code)"
   ]
  },
  {
   "cell_type": "code",
   "execution_count": 4,
   "id": "01c3391d",
   "metadata": {},
   "outputs": [
    {
     "name": "stdout",
     "output_type": "stream",
     "text": [
      "1\n",
      "2\n",
      "2\n"
     ]
    }
   ],
   "source": [
    "#ex14 조건문\n",
    "digit1=int(input())\n",
    "digit2=int(input())\n",
    "if digit1>digit2:\n",
    "    print(digit1)\n",
    "else:\n",
    "    print(digit2)"
   ]
  },
  {
   "cell_type": "code",
   "execution_count": 5,
   "id": "0e3e0c56",
   "metadata": {},
   "outputs": [
    {
     "name": "stdout",
     "output_type": "stream",
     "text": [
      "3\n",
      "odd\n"
     ]
    }
   ],
   "source": [
    "#ex15 조건문 홍짝수 구분\n",
    "digit1=int(input())\n",
    "if digit1//2==0:\n",
    "    print('even')\n",
    "else:\n",
    "    print(\"odd\")"
   ]
  },
  {
   "cell_type": "code",
   "execution_count": 6,
   "id": "9b810e21",
   "metadata": {},
   "outputs": [
    {
     "name": "stdout",
     "output_type": "stream",
     "text": [
      "3\n",
      "1\n",
      "100\n",
      "1\n"
     ]
    }
   ],
   "source": [
    "#ex16 조건문 세 수 중의 가장 작은 값\n",
    "digit1=int(input())\n",
    "digit2=int(input())\n",
    "digit3=int(input())\n",
    "\n",
    "if digit1<digit2:\n",
    "    min=digit1\n",
    "else:\n",
    "    min=digit2\n",
    "if min<digit3:\n",
    "    print(min)\n",
    "else:\n",
    "    print(digit3)"
   ]
  },
  {
   "cell_type": "code",
   "execution_count": 7,
   "id": "679fda1f",
   "metadata": {},
   "outputs": [
    {
     "name": "stdout",
     "output_type": "stream",
     "text": [
      "43\n",
      "C\n"
     ]
    }
   ],
   "source": [
    "#ex17 조건문 점수 입력 후 등급 출력\n",
    "\n",
    "digit=int(input())\n",
    "\n",
    "if digit<=100 and digit>=81:\n",
    "    print('A')\n",
    "elif digit<=80 and digit>=61:\n",
    "    print('B')\n",
    "else:\n",
    "    print('C')"
   ]
  },
  {
   "cell_type": "code",
   "execution_count": 8,
   "id": "394f780e",
   "metadata": {},
   "outputs": [
    {
     "name": "stdout",
     "output_type": "stream",
     "text": [
      "99\n"
     ]
    }
   ],
   "source": [
    "#ex18 리스트 주민등록번호를 입력받아 출생연도 출력\n",
    "p_id='990901-11111111'\n",
    "print(p_id[0:2])"
   ]
  },
  {
   "cell_type": "code",
   "execution_count": 9,
   "id": "85275940",
   "metadata": {},
   "outputs": [
    {
     "name": "stdout",
     "output_type": "stream",
     "text": [
      "1\n"
     ]
    }
   ],
   "source": [
    "#ex19 리스트 주민등록번호를 입력받아 성별 출력\n",
    "p_id='990901-11111111'\n",
    "p_id=p_id.split('-')\n",
    "print(p_id[1][0])"
   ]
  },
  {
   "cell_type": "code",
   "execution_count": 10,
   "id": "a108d1d6",
   "metadata": {},
   "outputs": [
    {
     "name": "stdout",
     "output_type": "stream",
     "text": [
      "남\n"
     ]
    }
   ],
   "source": [
    "#ex20 리스트 주민등록번호를 입력받아 성별 출력\n",
    "p_id='990901-11111111'\n",
    "p_id=p_id.split('-')\n",
    "if p_id[1][0]=='1':\n",
    "    print('남')\n",
    "elif p_id[1][0]=='2':\n",
    "    print('여')"
   ]
  },
  {
   "cell_type": "code",
   "execution_count": 11,
   "id": "6a2a02dc",
   "metadata": {},
   "outputs": [
    {
     "name": "stdout",
     "output_type": "stream",
     "text": [
      "a man goes into the room\n"
     ]
    }
   ],
   "source": [
    "#ex21 문자열 제거\n",
    "string=\"a man goes into the room...\"\n",
    "print(string.strip('.'))"
   ]
  },
  {
   "cell_type": "code",
   "execution_count": 12,
   "id": "e65fae8f",
   "metadata": {},
   "outputs": [
    {
     "name": "stdout",
     "output_type": "stream",
     "text": [
      "0000c\n"
     ]
    }
   ],
   "source": [
    "#ex22 문자열 다루기 (strip)\n",
    "code='              0000c\\n'\n",
    "print(code.strip(' \\n'))"
   ]
  },
  {
   "cell_type": "code",
   "execution_count": 13,
   "id": "89ee1da9",
   "metadata": {},
   "outputs": [
    {
     "name": "stdout",
     "output_type": "stream",
     "text": [
      "3\n"
     ]
    }
   ],
   "source": [
    "#ex23 문자열 카운트\n",
    "p=\"fdsfdavcsdvfewv wsaxnimkjqlwbvcnpua;jnx pquib ch bvchiws bcwihqb\"\n",
    "print(p.count('a'))"
   ]
  },
  {
   "cell_type": "code",
   "execution_count": 14,
   "id": "c8f70a51",
   "metadata": {},
   "outputs": [
    {
     "name": "stdout",
     "output_type": "stream",
     "text": [
      "2\n"
     ]
    }
   ],
   "source": [
    "#ex24 문자열 카운트\n",
    "p=\"fdsfdavcsdvfewv wsaxnimkjqlwbvcnpua;jnx pquib ch bvchiws bcwihqb\"\n",
    "print(p.count('x'))"
   ]
  },
  {
   "cell_type": "code",
   "execution_count": 16,
   "id": "2d5f35b0",
   "metadata": {},
   "outputs": [
    {
     "name": "stdout",
     "output_type": "stream",
     "text": [
      "y\n",
      "h\n"
     ]
    }
   ],
   "source": [
    "#ex25 문자열 인덱싱\n",
    "st=\"python\"\n",
    "print(st[1])\n",
    "print(st[3])"
   ]
  },
  {
   "cell_type": "code",
   "execution_count": 17,
   "id": "38bf49e0",
   "metadata": {},
   "outputs": [
    {
     "name": "stdout",
     "output_type": "stream",
     "text": [
      "dsfcdsv\n",
      "-1\n"
     ]
    }
   ],
   "source": [
    "#ex26 문자열 인덱싱\n",
    "st=input()\n",
    "if st.find('n')>=0:\n",
    "    print(\"0\")\n",
    "else:\n",
    "    print(\"-1\")"
   ]
  },
  {
   "cell_type": "code",
   "execution_count": 18,
   "id": "8ea3e88b",
   "metadata": {},
   "outputs": [
    {
     "name": "stdout",
     "output_type": "stream",
     "text": [
      "nfvdf\n",
      "n O\n"
     ]
    }
   ],
   "source": [
    "#ex27 문자열 인덱싱\n",
    "st=input()\n",
    "if st.find('n')>=0:\n",
    "    print(\"n O\")\n",
    "else:\n",
    "    print(\"n X\")"
   ]
  },
  {
   "cell_type": "code",
   "execution_count": 20,
   "id": "b01d5084",
   "metadata": {},
   "outputs": [
    {
     "name": "stdout",
     "output_type": "stream",
     "text": [
      "부산\n"
     ]
    }
   ],
   "source": [
    "#ex28 문자열 인덱싱과 조건문\n",
    "p_id='990901-11111111'\n",
    "p_id=int(p_id[8:10])\n",
    "if p_id>=0 and p_id<=8:\n",
    "    print('서울')\n",
    "elif p_id >=9 and p_id <=12:\n",
    "    print('부산')"
   ]
  },
  {
   "cell_type": "code",
   "execution_count": 24,
   "id": "d9d0584c",
   "metadata": {},
   "outputs": [
    {
     "name": "stdout",
     "output_type": "stream",
     "text": [
      "dave\n",
      "david\n",
      "andy\n",
      "22\n",
      "222222\n",
      "LLL\n"
     ]
    }
   ],
   "source": [
    "#ex29 문자열 split\n",
    "st=\"dave,david,andy,22,222222,LLL\"\n",
    "for s in st.split(','):\n",
    "    print(s)"
   ]
  },
  {
   "cell_type": "code",
   "execution_count": 25,
   "id": "bc187890",
   "metadata": {},
   "outputs": [
    {
     "name": "stdout",
     "output_type": "stream",
     "text": [
      "exercise01\n"
     ]
    }
   ],
   "source": [
    "#ex30 문자열 split\n",
    "st=\"exercise01.docx\"\n",
    "print(st.split('.')[0])\n"
   ]
  },
  {
   "cell_type": "code",
   "execution_count": null,
   "id": "5cfa2d78",
   "metadata": {},
   "outputs": [],
   "source": []
  }
 ],
 "metadata": {
  "kernelspec": {
   "display_name": "Python 3",
   "language": "python",
   "name": "python3"
  },
  "language_info": {
   "codemirror_mode": {
    "name": "ipython",
    "version": 3
   },
   "file_extension": ".py",
   "mimetype": "text/x-python",
   "name": "python",
   "nbconvert_exporter": "python",
   "pygments_lexer": "ipython3",
   "version": "3.8.8"
  }
 },
 "nbformat": 4,
 "nbformat_minor": 5
}
